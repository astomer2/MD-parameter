{
 "cells": [
  {
   "cell_type": "code",
   "execution_count": 13,
   "metadata": {},
   "outputs": [
    {
     "name": "stdout",
     "output_type": "stream",
     "text": [
      "done\n"
     ]
    }
   ],
   "source": [
    "import MDAnalysis as mda\n",
    "from MDAnalysis.analysis.hydrogenbonds.hbond_analysis import HydrogenBondAnalysis as HBA\n",
    "# 读取PDB文件,包含100帧\n",
    "u = mda.Universe('/mnt/nas1/lanwei-125/IL8/v1/QHSHPYP/fixed.prmtop','/mnt/nas1/lanwei-125/IL8/v1/QHSHPYP/fixed.mdcrd')\n",
    "hbonds = HBA(universe=u,donors_sel='resid 1:141',acceptors_sel='resid 142:149')\n",
    "hbonds.run()\n",
    "print(hbonds.results.hbonds)"
   ]
  },
  {
   "cell_type": "code",
   "execution_count": null,
   "metadata": {},
   "outputs": [],
   "source": [
    "\n",
    "import os\n",
    "import csv\n",
    "import pandas as pd\n",
    "import matplotlib.pyplot as plt\n",
    "\n",
    "# 设置图形大小\n",
    "plt.figure(figsize=(15,8)) \n",
    "\n",
    "hbond = '/mnt/nas1/lanwei-125/IL8/v2/QHSHPYP/nhb.dat'\n",
    "# 判断xvg文件是否存在\n",
    "x = []\n",
    "y = []\n",
    "with open(hbond,'r') as f:\n",
    "    next(f) # 跳过第一行\n",
    "    for line in f:\n",
    "        cols = line.split()\n",
    "        x.append(float(cols[0])/500) \n",
    "        y.append(float(cols[1]))\n",
    "\n",
    "# 绘制折线图\n",
    "#plt.plot(x, y, '-', label=subdir) \n",
    "#plt.plot(x, y, 'r-', label=subdir)       \n",
    "plt.plot(x, y,  linewidth=0.5)\n",
    "\n",
    "# 设置轴标签        \n",
    "plt.xlabel('Time (ns)')\n",
    "plt.ylabel('hbond (numbers)') \n",
    "\n",
    "# 设置图例\n",
    "plt.legend(loc = 'upper center',bbox_to_anchor=(0.5, 1.15), ncol = 5 )\n",
    "\n",
    "plt.show()\n",
    "# 保存图像\n",
    "#plt.savefig(RMSD_line,dpi = 600)"
   ]
  },
  {
   "cell_type": "code",
   "execution_count": 1,
   "metadata": {},
   "outputs": [],
   "source": [
    "work_dir = '/mnt/nas1/lanwei-125/FGF5/CYIQLCVLG/'"
   ]
  },
  {
   "cell_type": "code",
   "execution_count": 3,
   "metadata": {},
   "outputs": [
    {
     "name": "stdout",
     "output_type": "stream",
     "text": [
      "Chains extracted to individual PDB files.\n"
     ]
    }
   ],
   "source": [
    "import os\n",
    "\n",
    "pdb_file = '/mnt/nas1/lanwei-125/FGF5/CYIQLCVLG/CYIQLCVLG.pdb'\n",
    "\n",
    "# 读取pdb文件所有行\n",
    "with open(pdb_file) as f:\n",
    "    lines = f.readlines()\n",
    "\n",
    "# 分别存储不同链的ATOM行    \n",
    "chain_dict = {}\n",
    "for line in lines:\n",
    "    if line.startswith('ATOM'):\n",
    "        chain_id = line[21]\n",
    "        if chain_id not in chain_dict:\n",
    "            chain_dict[chain_id] = []\n",
    "        chain_dict[chain_id].append(line)\n",
    "\n",
    "# 将不同链写出为单独PDB文件        \n",
    "for chain_id, atom_lines in chain_dict.items():\n",
    "    out_file = f'{work_dir+chain_id}_chain.pdb'\n",
    "    with open(out_file, 'w') as f:\n",
    "        f.write(''.join(atom_lines))\n",
    "\n",
    "print('Chains extracted to individual PDB files.')"
   ]
  },
  {
   "cell_type": "code",
   "execution_count": 4,
   "metadata": {},
   "outputs": [],
   "source": [
    "work_path = '/mnt/nas1/lanwei-125/FGF5/CYIQLCVLG/'\n",
    "peptide_structure = f'{work_path}/peptide.pdb'\n",
    "protein_structure = f'{work_path}/FGF5.pdb'"
   ]
  },
  {
   "cell_type": "code",
   "execution_count": 5,
   "metadata": {},
   "outputs": [
    {
     "name": "stderr",
     "output_type": "stream",
     "text": [
      "Warning: importing 'simtk.openmm' is deprecated.  Import 'openmm' instead.\n",
      "\n",
      "==================================================\n",
      "Summary of pdb4amber for: /mnt/nas1/lanwei-125/FGF5/CYIQLCVLG//FGF5.pdb\n",
      "===================================================\n",
      "\n",
      "----------Chains\n",
      "The following (original) chains have been found:\n",
      "A\n",
      "\n",
      "---------- Alternate Locations (Original Residues!))\n",
      "\n",
      "The following residues had alternate locations:\n",
      "None\n",
      "-----------Non-standard-resnames\n",
      "\n",
      "\n",
      "---------- Missing heavy atom(s)\n",
      "\n",
      "None\n",
      "Warning: importing 'simtk.openmm' is deprecated.  Import 'openmm' instead.\n",
      "\n",
      "==================================================\n",
      "Summary of pdb4amber for: /mnt/nas1/lanwei-125/FGF5/CYIQLCVLG//peptide.pdb\n",
      "===================================================\n",
      "\n",
      "----------Chains\n",
      "The following (original) chains have been found:\n",
      "B\n",
      "\n",
      "---------- Alternate Locations (Original Residues!))\n",
      "\n",
      "The following residues had alternate locations:\n",
      "None\n",
      "-----------Non-standard-resnames\n",
      "\n",
      "\n",
      "---------- Missing heavy atom(s)\n",
      "\n",
      "None\n"
     ]
    }
   ],
   "source": [
    "\n",
    "os.system(\"pdb4amber -y -i  \" + protein_structure + \"  -o \" + protein_structure.split(\".\")[0] + \"_h.pdb\")\n",
    "os.system(\"pdb4amber -y -i  \"+ peptide_structure + \"  -o \" + peptide_structure.split(\".\")[0] + \"_h.pdb\")\n",
    "os.remove(protein_structure)\n",
    "os.remove(peptide_structure)\n",
    "\n",
    "os.rename( protein_structure.split(\".\")[0] + \"_h.pdb\", protein_structure )\n",
    "os.rename(peptide_structure.split(\".\")[0]+ \"_h.pdb\", peptide_structure )"
   ]
  },
  {
   "cell_type": "code",
   "execution_count": null,
   "metadata": {},
   "outputs": [],
   "source": [
    "import mdtraj as md\n",
    "\n",
    "traj = md.load('/mnt/nas1/lanwei-125/IL8/v1/QHSHPYP/fixed.mdcrd', top='/mnt/nas1/lanwei-125/IL8/v1/QHSHPYP/fixed.prmtop')\n",
    "print(traj)"
   ]
  },
  {
   "cell_type": "code",
   "execution_count": null,
   "metadata": {},
   "outputs": [],
   "source": [
    "hbonds = md.baker_hubbard(traj)"
   ]
  },
  {
   "cell_type": "code",
   "execution_count": null,
   "metadata": {},
   "outputs": [],
   "source": [
    "protein_residues = traj.topology.select('index 0 to 2369 ')\n",
    "ligand_residues = traj.topology.select('index 2371 to 2484')\n",
    "print(len(ligand_residues))"
   ]
  }
 ],
 "metadata": {
  "kernelspec": {
   "display_name": "AmberTools20",
   "language": "python",
   "name": "python3"
  },
  "language_info": {
   "codemirror_mode": {
    "name": "ipython",
    "version": 3
   },
   "file_extension": ".py",
   "mimetype": "text/x-python",
   "name": "python",
   "nbconvert_exporter": "python",
   "pygments_lexer": "ipython3",
   "version": "3.9.15"
  },
  "orig_nbformat": 4
 },
 "nbformat": 4,
 "nbformat_minor": 2
}
